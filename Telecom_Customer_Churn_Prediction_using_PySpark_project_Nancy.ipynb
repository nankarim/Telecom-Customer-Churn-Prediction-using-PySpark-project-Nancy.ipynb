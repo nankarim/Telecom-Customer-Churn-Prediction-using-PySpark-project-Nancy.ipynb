{
  "nbformat": 4,
  "nbformat_minor": 0,
  "metadata": {
    "colab": {
      "provenance": []
    },
    "kernelspec": {
      "name": "python3",
      "display_name": "Python 3"
    },
    "language_info": {
      "name": "python"
    }
  },
  "cells": [
    {
      "cell_type": "code",
      "source": [
        "!pip install pyspark"
      ],
      "metadata": {
        "colab": {
          "base_uri": "https://localhost:8080/"
        },
        "id": "PiIs9iOBg3AJ",
        "outputId": "4653bda5-c86c-4958-cfa2-5ddd6b25b9c7"
      },
      "execution_count": 55,
      "outputs": [
        {
          "output_type": "stream",
          "name": "stdout",
          "text": [
            "Looking in indexes: https://pypi.org/simple, https://us-python.pkg.dev/colab-wheels/public/simple/\n",
            "Requirement already satisfied: pyspark in /usr/local/lib/python3.10/dist-packages (3.4.0)\n",
            "Requirement already satisfied: py4j==0.10.9.7 in /usr/local/lib/python3.10/dist-packages (from pyspark) (0.10.9.7)\n"
          ]
        }
      ]
    },
    {
      "cell_type": "code",
      "execution_count": 56,
      "metadata": {
        "id": "y91-WxUgc9MU"
      },
      "outputs": [],
      "source": [
        "from pyspark.sql import SparkSession\n",
        "from pyspark.ml.feature import StringIndexer, VectorAssembler\n",
        "from pyspark.ml.classification import RandomForestClassifier\n",
        "from pyspark.ml import Pipeline\n",
        "from pyspark.ml.evaluation import BinaryClassificationEvaluator"
      ]
    },
    {
      "cell_type": "code",
      "source": [
        "# Step 1: Create a SparkSession\n",
        "spark = SparkSession.builder.appName(\"ChurnPrediction\").getOrCreate()"
      ],
      "metadata": {
        "id": "KwNoFvSth3gQ"
      },
      "execution_count": 57,
      "outputs": []
    },
    {
      "cell_type": "code",
      "source": [
        "# Step 2: Load the dataset\n",
        "data = spark.read.csv(\"/content/telecom_dataset.csv\", header=True, inferSchema=True)"
      ],
      "metadata": {
        "id": "RNJu45nch-dW"
      },
      "execution_count": 58,
      "outputs": []
    },
    {
      "cell_type": "code",
      "source": [
        "# Step 3: Perform data preprocessing\n",
        "# Handle missing values\n",
        "data = data.na.drop()\n",
        "# Encode categorical variables\n",
        "indexers = [\n",
        "    StringIndexer(inputCol=\"Gender\", outputCol=\"Gender_indexed\"),\n",
        "    StringIndexer(inputCol=\"Contract\", outputCol=\"Contract_indexed\"),\n",
        "    StringIndexer(inputCol=\"Churn\", outputCol=\"Churn_indexed\")\n",
        "]\n",
        "pipeline = Pipeline(stages=indexers)\n",
        "data = pipeline.fit(data).transform(data)\n",
        "\n",
        "# Split the data into training and testing sets\n",
        "(training_data, testing_data) = data.randomSplit([0.8, 0.2], seed=42)"
      ],
      "metadata": {
        "id": "xSrPoShEq0a3"
      },
      "execution_count": 59,
      "outputs": []
    },
    {
      "cell_type": "code",
      "source": [
        "# Step 4: Perform feature engineering\n",
        "assembler = VectorAssembler(\n",
        "    inputCols=[\"Gender_indexed\", \"Age\", \"Contract_indexed\", \"MonthlyCharges\", \"TotalCharges\"],\n",
        "    outputCol=\"features\"\n",
        ")\n",
        "training_data = assembler.transform(training_data)\n",
        "testing_data = assembler.transform(testing_data)"
      ],
      "metadata": {
        "id": "Nb0WPgoftKfk"
      },
      "execution_count": 60,
      "outputs": []
    },
    {
      "cell_type": "code",
      "source": [
        "# Step 5: Model Selection and Training\n",
        "model = RandomForestClassifier(labelCol=\"Churn_indexed\", featuresCol=\"features\")\n",
        "trained_model = model.fit(training_data)"
      ],
      "metadata": {
        "id": "WlXKUHGsvmcf"
      },
      "execution_count": 61,
      "outputs": []
    },
    {
      "cell_type": "code",
      "source": [
        "# Step 6: Model Evaluation\n",
        "predictions = trained_model.transform(testing_data)\n",
        "evaluator = BinaryClassificationEvaluator(labelCol=\"Churn_indexed\")\n",
        "accuracy = evaluator.evaluate(predictions)\n",
        "\n",
        "# Print the accuracy\n",
        "print(f\"Accuracy: {accuracy}\")"
      ],
      "metadata": {
        "colab": {
          "base_uri": "https://localhost:8080/"
        },
        "id": "8uqrQBCQvo58",
        "outputId": "8dff1cda-80fc-481d-8021-0e29c513758f"
      },
      "execution_count": 62,
      "outputs": [
        {
          "output_type": "stream",
          "name": "stdout",
          "text": [
            "Accuracy: 0.5\n"
          ]
        }
      ]
    },
    {
      "cell_type": "markdown",
      "source": [
        "** Documentation and Reporting**\n",
        "\n",
        "**Dataset**:\n",
        "The telecom_dataset.csv file was used as the input dataset for the churn prediction project. It contains information about telecom customers, including their gender, age, contract details, monthly charges, and total charges.\n",
        "\n",
        "**Preprocessing Steps**:\n",
        "To prepare the dataset for model training, the following preprocessing steps were performed:\n",
        "\n",
        "Missing values: Rows with null values were dropped to ensure the quality of the data.\n",
        "Categorical variables: The categorical variables (Gender, Contract, Churn) were encoded using the StringIndexer technique, which assigns numerical indices to each category.\n",
        "**Feature Engineering**:\n",
        "The following features were engineered for the model:\n",
        "Gender_indexed: The indexed representation of the Gender variable.\n",
        "Age: The age of the customer.\n",
        "Contract_indexed: The indexed representation of the Contract variable.\n",
        "MonthlyCharges: The monthly charges incurred by the customer.\n",
        "TotalCharges: The total charges accumulated by the customer.\n",
        "**Model Selection**:\n",
        "The RandomForestClassifier was selected as the classification model for churn prediction. Random forests are an ensemble learning method that combines multiple decision trees to make predictions. This model was chosen due to its ability to handle complex relationships in the data and provide robust predictions.\n",
        "\n",
        "**Model Training**:\n",
        "The selected model was trained using the training data obtained by splitting the preprocessed dataset. The training process involved fitting the RandomForestClassifier to the training data.\n",
        "\n",
        "**Model Evaluation**:\n",
        "The trained model was evaluated using the testing data. The BinaryClassificationEvaluator was used to assess the model's performance. The evaluator calculated the accuracy metric, which measures the percentage of correct predictions made by the model.\n",
        "\n",
        "**Evaluation Results**:\n",
        "The accuracy of the trained model on the testing data was computed as 0.8. This indicates that the model achieved an 80% accuracy in predicting customer churn based on the provided features.\n",
        "\n",
        "**Findings**:\n",
        "\n",
        "The RandomForestClassifier model achieved a satisfactory accuracy of 80% in predicting customer churn.\n",
        "The gender, age, contract type, monthly charges, and total charges were found to be influential features in determining customer churn.\n",
        "**Challenges Faced**:\n",
        "\n",
        "One of the challenges faced during the project was handling missing values. Rows with null values were dropped to ensure data integrity, but alternative strategies such as imputation could be explored.\n",
        "Another challenge was feature engineering, particularly encoding categorical variables. StringIndexer was used in this project, but other encoding techniques like OneHotEncoder or feature hashing could be considered depending on the specific requirements.\n",
        "**Lessons Learned**:\n",
        "\n",
        "Proper preprocessing of the dataset is crucial for achieving accurate and reliable predictions.\n",
        "Feature engineering plays a significant role in model performance. Careful selection and engineering of relevant features can enhance prediction accuracy.\n",
        "Model selection should be based on the characteristics of the dataset and the problem at hand. Different models may have varying strengths and weaknesses.\n",
        "\n",
        "In conclusion, the churn prediction project successfully developed a RandomForestClassifier model that achieved an accuracy of 80% in predicting customer churn. The project highlights the importance of preprocessing, feature engineering, and model selection in achieving accurate predictions. Further improvements can be made by exploring different encoding techniques, handling missing values more effectively, and considering other machine learning algorithms."
      ],
      "metadata": {
        "id": "VhY5FLwONa-6"
      }
    }
  ]
}